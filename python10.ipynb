{
 "cells": [
  {
   "cell_type": "code",
   "execution_count": 3,
   "id": "052fb948",
   "metadata": {},
   "outputs": [
    {
     "name": "stdout",
     "output_type": "stream",
     "text": [
      "Enter the keys:2,3,5,4,1\n",
      "Enter the values:karu,ami,anu,shaik,neff\n",
      "asc order: {'1': 'neff', '2': 'karu', '3': 'ami', '4': 'shaik', '5': 'anu'}\n",
      "desc order: {'5': 'anu', '4': 'shaik', '3': 'ami', '2': 'karu', '1': 'neff'}\n"
     ]
    }
   ],
   "source": [
    "#WAPP to accept 5 students names and roll no, and map these into a dictionary(roll=key,name=value).\n",
    "#sort the dictionary in ascending and descending order of their roll number.\n",
    "key=(input(\"Enter the keys:\").split(','))\n",
    "value=(input(\"Enter the values:\").split(','))\n",
    "student=dict(zip(key,value))\n",
    "print(\"asc order:\",dict(sorted(student.items())))\n",
    "print(\"desc order:\",dict(sorted(student.items(),reverse=-1)))"
   ]
  },
  {
   "cell_type": "code",
   "execution_count": 11,
   "id": "e5eec43b",
   "metadata": {},
   "outputs": [
    {
     "name": "stdout",
     "output_type": "stream",
     "text": [
      "Enter the names of dict1:ka,am,an\n",
      "Enter the roll no. of dict1:2,3,1\n",
      "Enter the names of dict2:sh,ne\n",
      "Enter the names of dict1:2,1\n",
      "dictionary 1= {'ka': '2', 'am': '3', 'an': '1', 'sh': '2', 'ne': '1'}\n",
      "dictionary 2= {'sh': '2', 'ne': '1'}\n",
      "Merged dictionaries are: {'ka': '2', 'am': '3', 'an': '1', 'sh': '2', 'ne': '1'}\n"
     ]
    }
   ],
   "source": [
    "#WAPP to accept 2 dictionaries(dic1 contain 3 students name and roll nos and dic2 contains 2 students \n",
    "#name and roll nos).merge 2 dictionaries and display it.(using update())\n",
    "dict1=(input(\"Enter the names of dict1:\").split(','))\n",
    "dict2=(input(\"Enter the roll no. of dict1:\").split(','))\n",
    "merge1=dict(zip(dict1,dict2))\n",
    "dict3=(input(\"Enter the names of dict2:\").split(','))\n",
    "dict4=(input(\"Enter the names of dict1:\").split(','))\n",
    "merge2=dict(zip(dict3,dict4))\n",
    "dict6=merge1.update(merge2)\n",
    "merge=merge1\n",
    "print(\"dictionary 1=\",merge1)\n",
    "print(\"dictionary 2=\",merge2)\n",
    "print(\"Merged dictionaries are:\",merge)"
   ]
  },
  {
   "cell_type": "code",
   "execution_count": null,
   "id": "1ccea9ec",
   "metadata": {},
   "outputs": [],
   "source": []
  }
 ],
 "metadata": {
  "kernelspec": {
   "display_name": "Python 3 (ipykernel)",
   "language": "python",
   "name": "python3"
  },
  "language_info": {
   "codemirror_mode": {
    "name": "ipython",
    "version": 3
   },
   "file_extension": ".py",
   "mimetype": "text/x-python",
   "name": "python",
   "nbconvert_exporter": "python",
   "pygments_lexer": "ipython3",
   "version": "3.11.5"
  }
 },
 "nbformat": 4,
 "nbformat_minor": 5
}
