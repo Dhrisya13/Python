{
 "cells": [
  {
   "cell_type": "code",
   "execution_count": 5,
   "id": "117b920f",
   "metadata": {},
   "outputs": [
    {
     "name": "stdout",
     "output_type": "stream",
     "text": [
      "Enter the list of colors:red,blue,green,black\n",
      "The first color: red\n",
      "The last color: black\n"
     ]
    }
   ],
   "source": [
    "#Create a list of colors from comma-separated color names entered by user.Display first and last colors.\n",
    "col=input(\"Enter the list of colors:\")\n",
    "c1=col.split(\",\")\n",
    "print(\"The first color:\",c1[0])\n",
    "print(\"The last color:\",c1[-1])"
   ]
  },
  {
   "cell_type": "code",
   "execution_count": 8,
   "id": "f08794a5",
   "metadata": {},
   "outputs": [
    {
     "name": "stdout",
     "output_type": "stream",
     "text": [
      "Enter the filename:abc.py\n",
      "Extension: py\n"
     ]
    }
   ],
   "source": [
    "#WAPP to accept a filename from the user,print extension of that.\n",
    "n=input(\"Enter the filename:\")\n",
    "n1=n.split(\".\")\n",
    "print(\"Extension:\",n1[-1])"
   ]
  },
  {
   "cell_type": "code",
   "execution_count": 14,
   "id": "f212192b",
   "metadata": {},
   "outputs": [
    {
     "name": "stdout",
     "output_type": "stream",
     "text": [
      "Enter the numbers:4,2,3,1\n",
      "Sum of all items: 10\n"
     ]
    }
   ],
   "source": [
    "#WAPP which accept a sequence of comma-sepaqrated number from users and \n",
    "#generate a list with those numbers and find sum of all items in that list\n",
    "lst=input(\"Enter the numbers:\")\n",
    "l1=lst.split(\",\")\n",
    "l2=sum(list(map(int,l1)))\n",
    "print(\"Sum of all items:\",l2)"
   ]
  },
  {
   "cell_type": "code",
   "execution_count": null,
   "id": "f22dda24",
   "metadata": {},
   "outputs": [],
   "source": []
  }
 ],
 "metadata": {
  "kernelspec": {
   "display_name": "Python 3 (ipykernel)",
   "language": "python",
   "name": "python3"
  },
  "language_info": {
   "codemirror_mode": {
    "name": "ipython",
    "version": 3
   },
   "file_extension": ".py",
   "mimetype": "text/x-python",
   "name": "python",
   "nbconvert_exporter": "python",
   "pygments_lexer": "ipython3",
   "version": "3.11.5"
  }
 },
 "nbformat": 4,
 "nbformat_minor": 5
}
