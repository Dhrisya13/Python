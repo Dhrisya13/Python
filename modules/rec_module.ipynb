{
 "cells": [
  {
   "cell_type": "code",
   "execution_count": 9,
   "id": "487b5a65",
   "metadata": {},
   "outputs": [],
   "source": [
    "from math import pi\n",
    "def area_r(l,b):\n",
    "    print(\"area of the rectangle:\",l*b)\n",
    "def area_c(r):\n",
    "    print(\"area of the circle:\",pi*r*r)\n",
    "def perimeter_r(l,b):\n",
    "    print(\"perimeter of the rectangle:\",2*(l+b))\n",
    "def perimeter_c(r):\n",
    "    print(\"perimeter of the circle:\",2*pi*r)"
   ]
  },
  {
   "cell_type": "code",
   "execution_count": 10,
   "id": "70d49adb",
   "metadata": {},
   "outputs": [
    {
     "name": "stdout",
     "output_type": "stream",
     "text": [
      "[NbConvertApp] Converting notebook rec_module.ipynb to python\n",
      "[NbConvertApp] Writing 421 bytes to rec_module.py\n"
     ]
    }
   ],
   "source": [
    "!jupyter nbconvert --to python rec_module.ipynb"
   ]
  },
  {
   "cell_type": "code",
   "execution_count": null,
   "id": "ebe8d04e",
   "metadata": {},
   "outputs": [],
   "source": []
  }
 ],
 "metadata": {
  "kernelspec": {
   "display_name": "Python 3 (ipykernel)",
   "language": "python",
   "name": "python3"
  },
  "language_info": {
   "codemirror_mode": {
    "name": "ipython",
    "version": 3
   },
   "file_extension": ".py",
   "mimetype": "text/x-python",
   "name": "python",
   "nbconvert_exporter": "python",
   "pygments_lexer": "ipython3",
   "version": "3.11.5"
  }
 },
 "nbformat": 4,
 "nbformat_minor": 5
}
