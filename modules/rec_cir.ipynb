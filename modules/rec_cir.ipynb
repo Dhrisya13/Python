{
 "cells": [
  {
   "cell_type": "code",
   "execution_count": 6,
   "id": "0dcb17c1",
   "metadata": {},
   "outputs": [
    {
     "name": "stdout",
     "output_type": "stream",
     "text": [
      "\n",
      "1.Rectangle \n",
      "2.Circle \n",
      "3.Exit\n",
      "Enter your choice:1\n",
      "Enter the length of rectangle:4\n",
      "Enter the breadth of rectangle:2\n",
      "area of the rectangle: 8.0\n",
      "perimeter of the rectangle: 12.0\n",
      "\n",
      "1.Rectangle \n",
      "2.Circle \n",
      "3.Exit\n",
      "Enter your choice:2\n",
      "Enter the radius of the circle:6\n",
      "area of the circle: 113.09733552923255\n",
      "perimeter of the circle: 37.69911184307752\n",
      "\n",
      "1.Rectangle \n",
      "2.Circle \n",
      "3.Exit\n",
      "Enter your choice:3\n",
      "Exiting\n"
     ]
    }
   ],
   "source": [
    "import rec_module\n",
    "while(1):\n",
    "    print(\"\\n1.Rectangle \\n2.Circle \\n3.Exit\")\n",
    "    c=float(input(\"Enter your choice:\"))\n",
    "    if(c==1):\n",
    "        l=float(input(\"Enter the length of rectangle:\"))\n",
    "        b=float(input(\"Enter the breadth of rectangle:\"))\n",
    "        rec_module.area_r(l,b)\n",
    "        rec_module.perimeter_r(l,b)\n",
    "    elif c==2:\n",
    "        r=float(input(\"Enter the radius of the circle:\"))\n",
    "        rec_module.area_c(r)\n",
    "        rec_module.perimeter_c(r)\n",
    "    else:\n",
    "        print(\"Exiting\")\n",
    "        break"
   ]
  },
  {
   "cell_type": "code",
   "execution_count": null,
   "id": "9e0483ca",
   "metadata": {},
   "outputs": [],
   "source": []
  }
 ],
 "metadata": {
  "kernelspec": {
   "display_name": "Python 3 (ipykernel)",
   "language": "python",
   "name": "python3"
  },
  "language_info": {
   "codemirror_mode": {
    "name": "ipython",
    "version": 3
   },
   "file_extension": ".py",
   "mimetype": "text/x-python",
   "name": "python",
   "nbconvert_exporter": "python",
   "pygments_lexer": "ipython3",
   "version": "3.11.5"
  }
 },
 "nbformat": 4,
 "nbformat_minor": 5
}
