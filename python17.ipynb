{
 "cells": [
  {
   "cell_type": "code",
   "execution_count": 7,
   "id": "4ff056f8",
   "metadata": {},
   "outputs": [
    {
     "name": "stdout",
     "output_type": "stream",
     "text": [
      "PYTHON BOOK DETAILS\n",
      "Publishing media's name:O'Reilly Media\n",
      "Book Title:Fluent Python\n",
      "Book Author:Luciano Ramalho\n",
      "Book Price:2451\n",
      "No_Of_Pages in the Book:1011\n",
      "Publisher Name: O'Reilly Media\n",
      "Book Title: Fluent Python\n",
      "Author: Luciano Ramalho\n",
      "Price: ₹2451\n",
      "No.of Pages: 1011\n"
     ]
    }
   ],
   "source": [
    "#create a class Publisher(name).Derive class Book from Publisher with attributes title and author.\n",
    "# Publisher with attributes title and author.Derive class python and book with attributes price and \n",
    "# no_of_pages.Write a program that displays information about a Python book.Use base \n",
    "# class constructor invocation and method overriding.\n",
    "\n",
    "class Publisher:\n",
    "    def __init__(self,name):\n",
    "        self.name=name\n",
    "    def display(self):\n",
    "        print(f\"Publisher Name: {self.name}\")\n",
    "class Book(Publisher):\n",
    "    def __init__(self, name, title, author):\n",
    "        super().__init__(name)\n",
    "        self.title = title\n",
    "        self.author = author\n",
    "    def display(self):\n",
    "        super().display()\n",
    "        print(f\"Book Title: {self.title}\")\n",
    "        print(f\"Author: {self.author}\")\n",
    "class Python(Book):\n",
    "    def __init__(self, name, title, author, price, no_of_pages):\n",
    "        super().__init__(name, title, author)\n",
    "        self.price = price\n",
    "        self.no_of_pages = no_of_pages\n",
    "    def display(self):\n",
    "        super().display() \n",
    "        print(f\"Price: ₹{self.price}\")\n",
    "        print(f\"No.of Pages: {self.no_of_pages}\")\n",
    "print(\"PYTHON BOOK DETAILS\")\n",
    "name=input(\"Publishing media's name:\")\n",
    "title=input(\"Book Title:\")\n",
    "author=input(\"Book Author:\")\n",
    "price=int(input(\"Book Price:\"))\n",
    "no_of_pages=int(input(\"No_Of_Pages in the Book:\"))\n",
    "pb=Python(name,title,author,price,no_of_pages)\n",
    "pb.display()"
   ]
  },
  {
   "cell_type": "code",
   "execution_count": null,
   "id": "0dabd869",
   "metadata": {},
   "outputs": [],
   "source": []
  }
 ],
 "metadata": {
  "kernelspec": {
   "display_name": "Python 3 (ipykernel)",
   "language": "python",
   "name": "python3"
  },
  "language_info": {
   "codemirror_mode": {
    "name": "ipython",
    "version": 3
   },
   "file_extension": ".py",
   "mimetype": "text/x-python",
   "name": "python",
   "nbconvert_exporter": "python",
   "pygments_lexer": "ipython3",
   "version": "3.11.5"
  }
 },
 "nbformat": 4,
 "nbformat_minor": 5
}
