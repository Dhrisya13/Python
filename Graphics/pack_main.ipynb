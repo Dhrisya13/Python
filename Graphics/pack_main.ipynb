{
 "cells": [
  {
   "cell_type": "code",
   "execution_count": 7,
   "id": "59c5c18f",
   "metadata": {},
   "outputs": [
    {
     "name": "stdout",
     "output_type": "stream",
     "text": [
      "\n",
      "1.Rectangle \n",
      "2.Circle \n",
      "3.Cuboid \n",
      "4.Sphere \n",
      "5.Exit\n",
      "Enter your choice:1\n",
      "Enter the length of the rectangle:4\n",
      "Enter the breadth of the rectangle:6\n",
      "Area of rectangle: 24\n",
      "Perimeter of the rectangle: 20\n",
      "\n",
      "1.Rectangle \n",
      "2.Circle \n",
      "3.Cuboid \n",
      "4.Sphere \n",
      "5.Exit\n",
      "Enter your choice:2\n",
      "Enter the radius of circle:5\n",
      "Area of circle: 78.5\n",
      "Perimeter of circle: 31.400000000000002\n",
      "\n",
      "1.Rectangle \n",
      "2.Circle \n",
      "3.Cuboid \n",
      "4.Sphere \n",
      "5.Exit\n",
      "Enter your choice:3\n",
      "Enter the length of the cuboid:5\n",
      "Enter the breadth of the cuboid:4\n",
      "Enter the height of cuboid:2\n",
      "Area of cuboid: 76\n",
      "Perimeter of the cuboid: 44\n",
      "\n",
      "1.Rectangle \n",
      "2.Circle \n",
      "3.Cuboid \n",
      "4.Sphere \n",
      "5.Exit\n",
      "Enter your choice:5\n",
      "Exiting\n"
     ]
    }
   ],
   "source": [
    "from Graphics import rectangle\n",
    "from Graphics import circle\n",
    "from Graphics.Graphics3d import Cuboid\n",
    "from Graphics.Graphics3d import sphere\n",
    "\n",
    "while(1):\n",
    "    print(\"\\n1.Rectangle \\n2.Circle \\n3.Cuboid \\n4.Sphere \\n5.Exit\")\n",
    "    n=int(input(\"Enter your choice:\"))\n",
    "    if n==1:\n",
    "        l=int(input(\"Enter the length of the rectangle:\"))\n",
    "        b=int(input(\"Enter the breadth of the rectangle:\"))\n",
    "        rectangle.area_r(l,b)\n",
    "        rectangle.peri_r(l,b)\n",
    "    elif n==2:\n",
    "        r=int(input(\"Enter the radius of circle:\"))\n",
    "        circle.area_c(r)\n",
    "        circle.peri_c(r)\n",
    "    elif n==3:\n",
    "        l=int(input(\"Enter the length of the cuboid:\"))\n",
    "        b=int(input(\"Enter the breadth of the cuboid:\"))\n",
    "        h=int(input(\"Enter the height of cuboid:\"))\n",
    "        Cuboid.area_cub(l,b,h)\n",
    "        Cuboid.peri_cub(l,b,h)\n",
    "    elif n==4:\n",
    "        r=int(input(\"Enter the radius of sphere:\"))\n",
    "        sphere.area_sph(r)\n",
    "        sphere.peri_sph(r)\n",
    "    else:\n",
    "        print(\"Exiting\")\n",
    "        break"
   ]
  },
  {
   "cell_type": "code",
   "execution_count": null,
   "id": "ec636e78",
   "metadata": {},
   "outputs": [],
   "source": []
  },
  {
   "cell_type": "code",
   "execution_count": null,
   "id": "c7bcd7ee",
   "metadata": {},
   "outputs": [],
   "source": []
  }
 ],
 "metadata": {
  "kernelspec": {
   "display_name": "Python 3 (ipykernel)",
   "language": "python",
   "name": "python3"
  },
  "language_info": {
   "codemirror_mode": {
    "name": "ipython",
    "version": 3
   },
   "file_extension": ".py",
   "mimetype": "text/x-python",
   "name": "python",
   "nbconvert_exporter": "python",
   "pygments_lexer": "ipython3",
   "version": "3.11.5"
  }
 },
 "nbformat": 4,
 "nbformat_minor": 5
}
