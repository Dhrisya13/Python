{
 "cells": [
  {
   "cell_type": "code",
   "execution_count": 2,
   "id": "78ad4727",
   "metadata": {},
   "outputs": [],
   "source": [
    "#circle.py\n",
    "def area_c(r):\n",
    "    print(\"Area of circle:\",3.14*r*r)\n",
    "def peri_c(r):\n",
    "    print(\"Perimeter of circle:\",2*3.14*r)"
   ]
  },
  {
   "cell_type": "code",
   "execution_count": 3,
   "id": "951ff818",
   "metadata": {},
   "outputs": [
    {
     "name": "stdout",
     "output_type": "stream",
     "text": [
      "[NbConvertApp] Converting notebook circle.ipynb to python\n",
      "[NbConvertApp] Writing 187 bytes to circle.py\n"
     ]
    }
   ],
   "source": [
    "!jupyter nbconvert --to python circle.ipynb"
   ]
  },
  {
   "cell_type": "code",
   "execution_count": null,
   "id": "dea76684",
   "metadata": {},
   "outputs": [],
   "source": []
  }
 ],
 "metadata": {
  "kernelspec": {
   "display_name": "Python 3 (ipykernel)",
   "language": "python",
   "name": "python3"
  },
  "language_info": {
   "codemirror_mode": {
    "name": "ipython",
    "version": 3
   },
   "file_extension": ".py",
   "mimetype": "text/x-python",
   "name": "python",
   "nbconvert_exporter": "python",
   "pygments_lexer": "ipython3",
   "version": "3.11.5"
  }
 },
 "nbformat": 4,
 "nbformat_minor": 5
}
