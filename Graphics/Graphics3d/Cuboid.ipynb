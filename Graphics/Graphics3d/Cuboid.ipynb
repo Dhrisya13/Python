{
 "cells": [
  {
   "cell_type": "code",
   "execution_count": 2,
   "id": "1392051d",
   "metadata": {},
   "outputs": [],
   "source": [
    "#cuboid.py\n",
    "def area_cub(l,b,h):\n",
    "    print(\"Area of cuboid:\",2*((l*b)+(l*h)+(b*h)))\n",
    "def peri_cub(l,b,h):\n",
    "    print(\"Perimeter of the cuboid:\",4*(l+b+h))"
   ]
  },
  {
   "cell_type": "code",
   "execution_count": 5,
   "id": "bb06fb88",
   "metadata": {},
   "outputs": [
    {
     "name": "stdout",
     "output_type": "stream",
     "text": [
      "[NbConvertApp] Converting notebook Cuboid.ipynb to python\n",
      "[NbConvertApp] Writing 297 bytes to Cuboid.py\n"
     ]
    }
   ],
   "source": [
    "!jupyter nbconvert --to python Cuboid.ipynb"
   ]
  },
  {
   "cell_type": "code",
   "execution_count": null,
   "id": "68f83a52",
   "metadata": {},
   "outputs": [],
   "source": []
  }
 ],
 "metadata": {
  "kernelspec": {
   "display_name": "Python 3 (ipykernel)",
   "language": "python",
   "name": "python3"
  },
  "language_info": {
   "codemirror_mode": {
    "name": "ipython",
    "version": 3
   },
   "file_extension": ".py",
   "mimetype": "text/x-python",
   "name": "python",
   "nbconvert_exporter": "python",
   "pygments_lexer": "ipython3",
   "version": "3.11.5"
  }
 },
 "nbformat": 4,
 "nbformat_minor": 5
}
