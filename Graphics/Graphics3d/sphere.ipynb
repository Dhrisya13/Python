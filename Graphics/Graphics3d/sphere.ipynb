{
 "cells": [
  {
   "cell_type": "code",
   "execution_count": 2,
   "id": "c420122d",
   "metadata": {},
   "outputs": [],
   "source": [
    "#sphere.py\n",
    "def area_sph(r):\n",
    "    print(\"Area of sphere:\",2*3.14*r)\n",
    "def peri_sph(r):\n",
    "    print(\"Perimeter of sphere:\",4*3.14*(r*r))"
   ]
  },
  {
   "cell_type": "code",
   "execution_count": 3,
   "id": "29fb6116",
   "metadata": {},
   "outputs": [
    {
     "name": "stdout",
     "output_type": "stream",
     "text": [
      "[NbConvertApp] Converting notebook sphere.ipynb to python\n",
      "[NbConvertApp] Writing 195 bytes to sphere.py\n"
     ]
    }
   ],
   "source": [
    "!jupyter nbconvert --to python sphere.ipynb"
   ]
  },
  {
   "cell_type": "code",
   "execution_count": null,
   "id": "501f409b",
   "metadata": {},
   "outputs": [],
   "source": []
  }
 ],
 "metadata": {
  "kernelspec": {
   "display_name": "Python 3 (ipykernel)",
   "language": "python",
   "name": "python3"
  },
  "language_info": {
   "codemirror_mode": {
    "name": "ipython",
    "version": 3
   },
   "file_extension": ".py",
   "mimetype": "text/x-python",
   "name": "python",
   "nbconvert_exporter": "python",
   "pygments_lexer": "ipython3",
   "version": "3.11.5"
  }
 },
 "nbformat": 4,
 "nbformat_minor": 5
}
