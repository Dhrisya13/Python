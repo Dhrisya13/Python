{
 "cells": [
  {
   "cell_type": "code",
   "execution_count": 2,
   "id": "4722cf8a",
   "metadata": {},
   "outputs": [],
   "source": [
    "def area_r(l,b):\n",
    "    print(\"Area of rectangle:\",l*b)\n",
    "def peri_r(l,b):\n",
    "    print(\"Perimeter of the rectangle:\",2*(l+b))"
   ]
  },
  {
   "cell_type": "code",
   "execution_count": 3,
   "id": "3be439e9",
   "metadata": {},
   "outputs": [
    {
     "name": "stdout",
     "output_type": "stream",
     "text": [
      "[NbConvertApp] Converting notebook rectangle.ipynb to python\n",
      "[NbConvertApp] Writing 184 bytes to rectangle.py\n"
     ]
    }
   ],
   "source": [
    "!jupyter nbconvert --to python rectangle.ipynb"
   ]
  },
  {
   "cell_type": "code",
   "execution_count": null,
   "id": "9b80f520",
   "metadata": {},
   "outputs": [],
   "source": []
  }
 ],
 "metadata": {
  "kernelspec": {
   "display_name": "Python 3 (ipykernel)",
   "language": "python",
   "name": "python3"
  },
  "language_info": {
   "codemirror_mode": {
    "name": "ipython",
    "version": 3
   },
   "file_extension": ".py",
   "mimetype": "text/x-python",
   "name": "python",
   "nbconvert_exporter": "python",
   "pygments_lexer": "ipython3",
   "version": "3.11.5"
  }
 },
 "nbformat": 4,
 "nbformat_minor": 5
}
