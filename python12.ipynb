{
 "cells": [
  {
   "cell_type": "code",
   "execution_count": 19,
   "id": "a1979a18",
   "metadata": {},
   "outputs": [
    {
     "name": "stdout",
     "output_type": "stream",
     "text": [
      "Enter the text:Hello world hello python\n",
      "count of occurences:\n",
      "hello : 2\n",
      "world : 1\n",
      "python : 1\n"
     ]
    }
   ],
   "source": [
    "#count the occurances of each word in a line of text.\n",
    "words=(input(\"Enter the text:\").lower())\n",
    "wo=words.split(\" \")\n",
    "count={}\n",
    "for i in wo:\n",
    "    if i in count:\n",
    "        count[i]+=1\n",
    "    else:\n",
    "        count[i]=1\n",
    "print(\"count of occurences:\")\n",
    "for j in count:\n",
    "    print(j,':',count[j])"
   ]
  },
  {
   "cell_type": "code",
   "execution_count": 1,
   "id": "c5859e96",
   "metadata": {},
   "outputs": [
    {
     "name": "stdout",
     "output_type": "stream",
     "text": [
      "Enter the list of no.:2 510 6 64 2500 351 7\n",
      "The replaced list are: [2, 'over', 6, 64, 'over', 'over', 7]\n"
     ]
    }
   ],
   "source": [
    "#prompt the user for a list of integers. for all values greater than 100,store 'over'instead\n",
    "lst1=list(map(int,input(\"Enter the list of no.:\").split(\" \")))\n",
    "c=[]\n",
    "for i in lst1:\n",
    "    if i>100:\n",
    "        c.append(\"over\")\n",
    "    else:\n",
    "        c.append(i)\n",
    "print(\"The replaced list are:\",c)"
   ]
  },
  {
   "cell_type": "code",
   "execution_count": 24,
   "id": "1ca26b3b",
   "metadata": {},
   "outputs": [
    {
     "name": "stdout",
     "output_type": "stream",
     "text": [
      "Enter the list:bas aaa dsa\n",
      "count of occurence: 5\n"
     ]
    }
   ],
   "source": [
    "#store a list of first names.count the occurences of 'a' within the list.\n",
    "lst=input(\"Enter the list:\").lower().split(\" \")\n",
    "lst1=0\n",
    "for i in lst:\n",
    "    lst1+=i.count(\"a\")   \n",
    "print(\"count of occurence:\",lst1)"
   ]
  },
  {
   "cell_type": "code",
   "execution_count": 31,
   "id": "ae748387",
   "metadata": {},
   "outputs": [
    {
     "name": "stdout",
     "output_type": "stream",
     "text": [
      "Enter the first number:12\n",
      "Enter the second number:24\n",
      "gcd is: 12\n"
     ]
    }
   ],
   "source": [
    "#find gcd of 2 numbers\n",
    "no1=int(input(\"Enter the first number:\"))\n",
    "no2=int(input(\"Enter the second number:\"))\n",
    "while no2!=0:\n",
    "    no1, no2 = no2, no1 % no2\n",
    "print(\"gcd is:\",no1)"
   ]
  },
  {
   "cell_type": "code",
   "execution_count": 39,
   "id": "d0de24fa",
   "metadata": {},
   "outputs": [
    {
     "name": "stdout",
     "output_type": "stream",
     "text": [
      "Enter the numbers:5 4 6 87 98 5 2\n",
      "The occured list is: [5, 87, 5]\n"
     ]
    }
   ],
   "source": [
    "#from a list of integers,create a list removing even numbers.\n",
    "lst1=list(map(int,input(\"Enter the numbers:\").split(\" \")))\n",
    "lst=[]\n",
    "for i in lst1:\n",
    "    if i%2!=0:\n",
    "        lst.append(i)\n",
    "print(\"The occured list is:\",lst)"
   ]
  },
  {
   "cell_type": "code",
   "execution_count": 41,
   "id": "50c7e053",
   "metadata": {},
   "outputs": [
    {
     "name": "stdout",
     "output_type": "stream",
     "text": [
      "Enter the number:6\n",
      "factorial of 6 is: 720\n"
     ]
    }
   ],
   "source": [
    "#program to find the factorial of a number.\n",
    "num=int(input(\"Enter the number:\"))\n",
    "fact=1\n",
    "for i in range(1,num+1):\n",
    "    fact*=i\n",
    "print(\"factorial of\",num,\"is:\",fact)"
   ]
  },
  {
   "cell_type": "code",
   "execution_count": 31,
   "id": "ef7a86fe",
   "metadata": {},
   "outputs": [
    {
     "name": "stdout",
     "output_type": "stream",
     "text": [
      "Enter the number:10\n",
      "The fibonacci sequence are:\n",
      "0 1 1 2 3 5 8 13 21 34 "
     ]
    }
   ],
   "source": [
    "#Generate Fibonocci series of N terms\n",
    "fib=int(input(\"Enter the number:\"))\n",
    "a=0\n",
    "b=1\n",
    "print(\"The fibonacci sequence are:\")\n",
    "for i in range(fib):\n",
    "    print(a,end=\" \")\n",
    "    a,b = b,a+b"
   ]
  },
  {
   "cell_type": "code",
   "execution_count": 20,
   "id": "ce5c427a",
   "metadata": {},
   "outputs": [
    {
     "name": "stdout",
     "output_type": "stream",
     "text": [
      "Enter the numbers:5 2 4 1 3\n",
      "Sum of the list: 15\n"
     ]
    }
   ],
   "source": [
    "#find the sum of all items in a list\n",
    "n=list(map(int,input(\"Enter the numbers:\").split(\" \")))\n",
    "a=0\n",
    "for i in n:\n",
    "    a+=i\n",
    "print(\"Sum of the list:\",a)"
   ]
  },
  {
   "cell_type": "code",
   "execution_count": 17,
   "id": "18eefdfe",
   "metadata": {},
   "outputs": [
    {
     "name": "stdout",
     "output_type": "stream",
     "text": [
      "Enter the starting 4 digit numbers:1000\n",
      "Enter the ending 4 digit numbers:9999\n",
      "The numbers are:\n",
      "4624\n",
      "6084\n",
      "6400\n",
      "8464\n"
     ]
    }
   ],
   "source": [
    "#generate the list of four digits numbers in a given \n",
    "#range with all their digits even and the number is a perfect square.\n",
    "import math\n",
    "n=int(input(\"Enter the starting 4 digit numbers:\"))\n",
    "n1=int(input(\"Enter the ending 4 digit numbers:\"))\n",
    "c=0\n",
    "print(\"The numbers are:\")\n",
    "for i in range(n,n1+1):\n",
    "    root=int(math.sqrt(i))\n",
    "    if root*root==i:\n",
    "        for j in str(i):\n",
    "            if int(j)%2!=0:\n",
    "                break\n",
    "        else:\n",
    "            print(i)\n",
    "            c=1\n",
    "if not c:\n",
    "    print(\"No numbers found...\")"
   ]
  },
  {
   "cell_type": "code",
   "execution_count": 25,
   "id": "bc749fb3",
   "metadata": {},
   "outputs": [
    {
     "name": "stdout",
     "output_type": "stream",
     "text": [
      "Enter the value:aagaabggga\n",
      "The frequency are:\n",
      "a : 5 , g : 4 , b : 1 , "
     ]
    }
   ],
   "source": [
    "#Count the number of characters(character frequency) in a string\n",
    "n=input(\"Enter the value:\")\n",
    "c={}\n",
    "for i in n:\n",
    "    if i in c:\n",
    "        c[i]+=1\n",
    "    else:\n",
    "        c[i]=1\n",
    "print(\"The frequency are:\")\n",
    "for j in c:\n",
    "    print(j,\":\",c[j],end=\" , \")"
   ]
  },
  {
   "cell_type": "code",
   "execution_count": 27,
   "id": "84a8485c",
   "metadata": {},
   "outputs": [
    {
     "name": "stdout",
     "output_type": "stream",
     "text": [
      "Enter the number N:4\n",
      "1\n",
      "2  4\n",
      "3  6  9\n",
      "4  8  12  16\n"
     ]
    }
   ],
   "source": [
    "#display the given pyramid with step number accepted from user.eg:N=4\n",
    "# 1\n",
    "# 2 4\n",
    "# 3 6 9\n",
    "# 4 8 12 16\n",
    "n=int(input(\"Enter the number N:\"))\n",
    "for i in range(1,n+1):\n",
    "    print(\"  \".join([str(i*j) for j in range(1,i+1)]))"
   ]
  },
  {
   "cell_type": "code",
   "execution_count": null,
   "id": "0add4e08",
   "metadata": {},
   "outputs": [],
   "source": []
  }
 ],
 "metadata": {
  "kernelspec": {
   "display_name": "Python 3 (ipykernel)",
   "language": "python",
   "name": "python3"
  },
  "language_info": {
   "codemirror_mode": {
    "name": "ipython",
    "version": 3
   },
   "file_extension": ".py",
   "mimetype": "text/x-python",
   "name": "python",
   "nbconvert_exporter": "python",
   "pygments_lexer": "ipython3",
   "version": "3.11.5"
  }
 },
 "nbformat": 4,
 "nbformat_minor": 5
}
