{
 "cells": [
  {
   "cell_type": "code",
   "execution_count": 8,
   "id": "6479359e",
   "metadata": {},
   "outputs": [
    {
     "name": "stdout",
     "output_type": "stream",
     "text": [
      "Enter the list:5,4,-1,2,-3\n",
      "The list are: [5, 4, 2]\n"
     ]
    }
   ],
   "source": [
    "#List Comprehensions\n",
    "# a.generate positive list of numbers from a given lists of integers\n",
    "n=list(map(int,input(\"Enter the list:\").split(\",\")))\n",
    "lst=[i for i in n if i>0]\n",
    "print(\"The list are:\",lst)"
   ]
  },
  {
   "cell_type": "code",
   "execution_count": 13,
   "id": "52466213",
   "metadata": {},
   "outputs": [
    {
     "name": "stdout",
     "output_type": "stream",
     "text": [
      "Enter the list:4,5,6\n",
      "The square of the numbers are: [16, 25, 36]\n"
     ]
    }
   ],
   "source": [
    "# b.square of N numbers\n",
    "n=list(map(int,input(\"Enter the list:\").split(\",\")))\n",
    "sqr=[i*i for i in n]\n",
    "print(\"The square of the numbers are:\",sqr)"
   ]
  },
  {
   "cell_type": "code",
   "execution_count": 14,
   "id": "8f922609",
   "metadata": {},
   "outputs": [
    {
     "name": "stdout",
     "output_type": "stream",
     "text": [
      "Enter a word:animal\n",
      "The vowels are: ['a', 'i', 'a']\n"
     ]
    }
   ],
   "source": [
    "# c.Form a list of vowels selected from a given word\n",
    "n=input(\"Enter a word:\")\n",
    "vowels=[i for i in n if i.lower() in \"aeiou\"]\n",
    "print(\"The vowels are:\",vowels)"
   ]
  },
  {
   "cell_type": "code",
   "execution_count": null,
   "id": "e4f8da4f",
   "metadata": {},
   "outputs": [],
   "source": []
  }
 ],
 "metadata": {
  "kernelspec": {
   "display_name": "Python 3 (ipykernel)",
   "language": "python",
   "name": "python3"
  },
  "language_info": {
   "codemirror_mode": {
    "name": "ipython",
    "version": 3
   },
   "file_extension": ".py",
   "mimetype": "text/x-python",
   "name": "python",
   "nbconvert_exporter": "python",
   "pygments_lexer": "ipython3",
   "version": "3.11.5"
  }
 },
 "nbformat": 4,
 "nbformat_minor": 5
}
