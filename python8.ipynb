{
 "cells": [
  {
   "cell_type": "code",
   "execution_count": 1,
   "id": "bbf8bf12",
   "metadata": {},
   "outputs": [
    {
     "name": "stdout",
     "output_type": "stream",
     "text": [
      "Even no.from 1-25 is: range(2, 25, 2)\n",
      "Sum of even no: 156\n"
     ]
    }
   ],
   "source": [
    "#WAP to print all even numbers from 1 to 25 and calculate sum.\n",
    "r=range(2,25,2)\n",
    "print(\"Even no.from 1-25 is:\",r)\n",
    "print(\"Sum of even no:\",sum(r))"
   ]
  },
  {
   "cell_type": "code",
   "execution_count": 6,
   "id": "89ca5561",
   "metadata": {},
   "outputs": [
    {
     "name": "stdout",
     "output_type": "stream",
     "text": [
      "Enter the range: 10\n",
      "The reverse order is: [10, 9, 8, 7, 6, 5, 4, 3, 2, 1]\n",
      "Sum of reverse order: 55\n"
     ]
    }
   ],
   "source": [
    "#WAPP to print all in reverse order and calculate their sum.\n",
    "rev = int(input(\"Enter the range: \"))\n",
    "print(\"The reverse order is:\", list(range(rev, 0, -1)))\n",
    "print(\"Sum of reverse order:\", sum(range(rev, 0, -1)))"
   ]
  },
  {
   "cell_type": "code",
   "execution_count": null,
   "id": "c24118f0",
   "metadata": {},
   "outputs": [],
   "source": []
  },
  {
   "cell_type": "code",
   "execution_count": null,
   "id": "42cd757a",
   "metadata": {},
   "outputs": [],
   "source": []
  }
 ],
 "metadata": {
  "kernelspec": {
   "display_name": "Python 3 (ipykernel)",
   "language": "python",
   "name": "python3"
  },
  "language_info": {
   "codemirror_mode": {
    "name": "ipython",
    "version": 3
   },
   "file_extension": ".py",
   "mimetype": "text/x-python",
   "name": "python",
   "nbconvert_exporter": "python",
   "pygments_lexer": "ipython3",
   "version": "3.11.5"
  }
 },
 "nbformat": 4,
 "nbformat_minor": 5
}
