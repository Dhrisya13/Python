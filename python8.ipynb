{
 "cells": [
  {
   "cell_type": "code",
   "execution_count": 1,
   "id": "bbf8bf12",
   "metadata": {},
   "outputs": [
    {
     "name": "stdout",
     "output_type": "stream",
     "text": [
      "Even no.from 1-25 is: range(2, 25, 2)\n",
      "Sum of even no: 156\n"
     ]
    }
   ],
   "source": [
    "#WAP to print all even numbers from 1 to 25 and calculate sum.\n",
    "r=range(2,25,2)\n",
    "print(\"Even no.from 1-25 is:\",r)\n",
    "print(\"Sum of even no:\",sum(r))"
   ]
  },
  {
   "cell_type": "code",
   "execution_count": 2,
   "id": "89ca5561",
   "metadata": {},
   "outputs": [
    {
     "name": "stdout",
     "output_type": "stream",
     "text": [
      "the reverse order is: [50, 47, 44, 41, 38, 35, 32, 29, 26, 23, 20, 17, 14, 11, 8, 5, 2]\n",
      "Sum of reverse order: 442\n"
     ]
    }
   ],
   "source": [
    "#WAPP to print all in reverse order and calculate their sum.\n",
    "rev=list(range(50,1,-3))\n",
    "print(\"the reverse order is:\",rev)\n",
    "print(\"Sum of reverse order:\",sum(rev))"
   ]
  },
  {
   "cell_type": "code",
   "execution_count": null,
   "id": "86b69b95",
   "metadata": {},
   "outputs": [],
   "source": []
  }
 ],
 "metadata": {
  "kernelspec": {
   "display_name": "Python 3 (ipykernel)",
   "language": "python",
   "name": "python3"
  },
  "language_info": {
   "codemirror_mode": {
    "name": "ipython",
    "version": 3
   },
   "file_extension": ".py",
   "mimetype": "text/x-python",
   "name": "python",
   "nbconvert_exporter": "python",
   "pygments_lexer": "ipython3",
   "version": "3.11.5"
  }
 },
 "nbformat": 4,
 "nbformat_minor": 5
}
