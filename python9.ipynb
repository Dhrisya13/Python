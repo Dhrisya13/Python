{
 "cells": [
  {
   "cell_type": "code",
   "execution_count": 10,
   "id": "714b4010",
   "metadata": {},
   "outputs": [
    {
     "name": "stdout",
     "output_type": "stream",
     "text": [
      "Enter the first set of colors:red,blue,green,yellow\n",
      "Enter the second set of colors:white,red,black,yellow\n",
      "set1: {'red', 'blue', 'yellow', 'green'}\n",
      "set2: {'red', 'white', 'black', 'yellow'}\n",
      "c1-c2: {'green', 'blue'}\n"
     ]
    }
   ],
   "source": [
    "#WAPP to printout all colors from color set 1 not contained in color set2\n",
    "c1=set(input(\"Enter the first set of colors:\").split(','))\n",
    "c2=set(input(\"Enter the second set of colors:\").split(','))\n",
    "print(\"set1:\",c1)\n",
    "print(\"set2:\",c2)\n",
    "c3=(set(c1-c2))\n",
    "print(\"c1-c2:\",c3)"
   ]
  },
  {
   "cell_type": "code",
   "execution_count": 11,
   "id": "6e75cb96",
   "metadata": {},
   "outputs": [
    {
     "name": "stdout",
     "output_type": "stream",
     "text": [
      "Enter the first set of colors:white,blue,green\n",
      "Enter the second set of colors:purple,yellow,black\n",
      "set1: {'blue', 'white', 'green'}\n",
      "set2: {'black', 'purple', 'yellow'}\n",
      "The colors from set1 and set2 are: {'green', 'white', 'yellow', 'blue', 'black', 'purple'}\n"
     ]
    }
   ],
   "source": [
    "#WAPP to print out all colors from color set1 and color set2\n",
    "c1=set(input(\"Enter the first set of colors:\").split(','))\n",
    "c2=set(input(\"Enter the second set of colors:\").split(','))\n",
    "print(\"set1:\",c1)\n",
    "print(\"set2:\",c2)\n",
    "c3=c1|c2\n",
    "print(\"The colors from set1 and set2 are:\",c3)"
   ]
  },
  {
   "cell_type": "code",
   "execution_count": null,
   "id": "87671b1e",
   "metadata": {},
   "outputs": [],
   "source": []
  }
 ],
 "metadata": {
  "kernelspec": {
   "display_name": "Python 3 (ipykernel)",
   "language": "python",
   "name": "python3"
  },
  "language_info": {
   "codemirror_mode": {
    "name": "ipython",
    "version": 3
   },
   "file_extension": ".py",
   "mimetype": "text/x-python",
   "name": "python",
   "nbconvert_exporter": "python",
   "pygments_lexer": "ipython3",
   "version": "3.11.5"
  }
 },
 "nbformat": 4,
 "nbformat_minor": 5
}
