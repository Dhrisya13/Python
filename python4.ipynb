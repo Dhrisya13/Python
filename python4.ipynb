{
 "cells": [
  {
   "cell_type": "code",
   "execution_count": 2,
   "id": "78de144d",
   "metadata": {},
   "outputs": [
    {
     "name": "stdout",
     "output_type": "stream",
     "text": [
      "Enter the first number:5\n",
      "Enter the second number:6\n",
      "Enter the third number:2\n",
      "The biggest number is: 6.0\n"
     ]
    }
   ],
   "source": [
    "#wap to find the biggest of three numbers(use max())\n",
    "var1=float(input(\"Enter the first number:\"))\n",
    "var2=float(input(\"Enter the second number:\"))\n",
    "var3=float(input(\"Enter the third number:\"))\n",
    "big=max(var1,var2,var3)\n",
    "print(\"The biggest number is:\",big)"
   ]
  },
  {
   "cell_type": "code",
   "execution_count": null,
   "id": "eef19064",
   "metadata": {},
   "outputs": [],
   "source": []
  }
 ],
 "metadata": {
  "kernelspec": {
   "display_name": "Python 3 (ipykernel)",
   "language": "python",
   "name": "python3"
  },
  "language_info": {
   "codemirror_mode": {
    "name": "ipython",
    "version": 3
   },
   "file_extension": ".py",
   "mimetype": "text/x-python",
   "name": "python",
   "nbconvert_exporter": "python",
   "pygments_lexer": "ipython3",
   "version": "3.11.5"
  }
 },
 "nbformat": 4,
 "nbformat_minor": 5
}
