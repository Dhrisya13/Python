{
 "cells": [
  {
   "cell_type": "code",
   "execution_count": 13,
   "id": "5cfc4c0f",
   "metadata": {},
   "outputs": [
    {
     "name": "stdout",
     "output_type": "stream",
     "text": [
      "Enter the string:python\n",
      "the new string will be: nythop\n"
     ]
    }
   ],
   "source": [
    "#WAP to change a given string to a new string where the first and last chars have been exchanged.\n",
    "n=(input(\"Enter the string:\"))\n",
    "n1=n[0]\n",
    "n2=n[-1]\n",
    "n3=n[1:-1]\n",
    "print(\"the new string will be:\",n2+n3+n1)"
   ]
  },
  {
   "cell_type": "code",
   "execution_count": 15,
   "id": "86648981",
   "metadata": {},
   "outputs": [
    {
     "name": "stdout",
     "output_type": "stream",
     "text": [
      "Enter the string:python\n",
      "The first and last 2 chars is: pyon\n"
     ]
    }
   ],
   "source": [
    "#WAP to get a string made of the first 2 and the last 2 chars from a given string\n",
    "n=(input(\"Enter the string:\"))\n",
    "n1=n[0:2]\n",
    "n2=n[-2:]\n",
    "print(\"The first and last 2 chars is:\",n1+n2)"
   ]
  },
  {
   "cell_type": "code",
   "execution_count": null,
   "id": "a7387aaa",
   "metadata": {},
   "outputs": [],
   "source": []
  },
  {
   "cell_type": "code",
   "execution_count": 2,
   "id": "35a49d1c",
   "metadata": {},
   "outputs": [
    {
     "name": "stdout",
     "output_type": "stream",
     "text": [
      "Enter the first string:python\n",
      "Enter the second string:program\n",
      "The new string will be: prthon pyogram\n"
     ]
    }
   ],
   "source": [
    "#WAP to get a single string from two given strings,\n",
    "#separated by a space and swap the first two characters of each strings\n",
    "str1=input(\"Enter the first string:\")\n",
    "str2=input(\"Enter the second string:\")\n",
    "n1=str1[:2]\n",
    "n2=str1[2:]\n",
    "n3=str2[:2]\n",
    "n4=str2[2:]\n",
    "str3=n3+n2+\" \"+n1+n4\n",
    "print(\"The new string will be:\",str3)"
   ]
  },
  {
   "cell_type": "code",
   "execution_count": 4,
   "id": "861ab83a",
   "metadata": {},
   "outputs": [
    {
     "name": "stdout",
     "output_type": "stream",
     "text": [
      "Enter the string:onion\n",
      "the result is: oni$n\n"
     ]
    }
   ],
   "source": [
    "#WAP to get a string from a given string where all occurences of its first char have been changed to $,\n",
    "#except the first char itself.(use replace()).\n",
    "a=input(\"Enter the string:\")\n",
    "b=a[0]\n",
    "a=a.replace(b,\"$\")\n",
    "c=b+a[1:]\n",
    "print(\"the result is:\",c)"
   ]
  },
  {
   "cell_type": "code",
   "execution_count": null,
   "id": "64bd1f50",
   "metadata": {},
   "outputs": [],
   "source": []
  }
 ],
 "metadata": {
  "kernelspec": {
   "display_name": "Python 3 (ipykernel)",
   "language": "python",
   "name": "python3"
  },
  "language_info": {
   "codemirror_mode": {
    "name": "ipython",
    "version": 3
   },
   "file_extension": ".py",
   "mimetype": "text/x-python",
   "name": "python",
   "nbconvert_exporter": "python",
   "pygments_lexer": "ipython3",
   "version": "3.11.5"
  }
 },
 "nbformat": 4,
 "nbformat_minor": 5
}
