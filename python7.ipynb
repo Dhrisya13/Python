{
 "cells": [
  {
   "cell_type": "code",
   "execution_count": 10,
   "id": "a3e13903",
   "metadata": {},
   "outputs": [
    {
     "name": "stdout",
     "output_type": "stream",
     "text": [
      "Enter the numbers:5 3 6 2 4 5 1 3 6\n",
      "tuple is: (5, 3, 6, 2, 4, 5, 1, 3, 6)\n",
      "first and last 3rd element is: (6, 1)\n"
     ]
    }
   ],
   "source": [
    "#WAP to get the 3rd element and 3rd element from last of tuple.\n",
    "t=tuple(map(int,input(\"Enter the numbers:\").split()))\n",
    "t1=(t[2],t[-3])\n",
    "print(\"tuple is:\",t)\n",
    "print(\"first and last 3rd element is:\",t1)"
   ]
  },
  {
   "cell_type": "code",
   "execution_count": 9,
   "id": "15161796",
   "metadata": {},
   "outputs": [
    {
     "name": "stdout",
     "output_type": "stream",
     "text": [
      "Enter the numbers:5 3 2 2 1\n",
      "tuple is: (5, 3, 2, 2, 1)\n",
      "avg value of numbers: 2.6\n"
     ]
    }
   ],
   "source": [
    "#WAP which accepts a sequence of comma separated numbers from user and \n",
    "#generate a tuple with those numbers and find sum of all items in that tuple.\n",
    "tup=tuple(map(int,input(\"Enter the numbers:\").split()))\n",
    "tup1=sum(tup)\n",
    "avg=tup1/len(tup)\n",
    "print(\"tuple is:\",tup)\n",
    "print(\"avg value of numbers:\",avg)"
   ]
  },
  {
   "cell_type": "code",
   "execution_count": null,
   "id": "4aa7e032",
   "metadata": {},
   "outputs": [],
   "source": []
  }
 ],
 "metadata": {
  "kernelspec": {
   "display_name": "Python 3 (ipykernel)",
   "language": "python",
   "name": "python3"
  },
  "language_info": {
   "codemirror_mode": {
    "name": "ipython",
    "version": 3
   },
   "file_extension": ".py",
   "mimetype": "text/x-python",
   "name": "python",
   "nbconvert_exporter": "python",
   "pygments_lexer": "ipython3",
   "version": "3.11.5"
  }
 },
 "nbformat": 4,
 "nbformat_minor": 5
}
