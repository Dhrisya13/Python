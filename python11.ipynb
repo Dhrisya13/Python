{
 "cells": [
  {
   "cell_type": "code",
   "execution_count": 2,
   "id": "96f28aec",
   "metadata": {},
   "outputs": [
    {
     "name": "stdout",
     "output_type": "stream",
     "text": [
      "Enter the list 1:5,2,4,1\n",
      "Enter the list 2:3,2,6,5\n",
      "List 1: [5, 2, 4, 1]\n",
      "List 2: [3, 2, 6, 5]\n",
      "It has same length\n",
      "The sum are not equal\n",
      "Common value occur: {2, 5}\n"
     ]
    }
   ],
   "source": [
    "#Enter 2 lists of integers.Check \n",
    "#(a).whether list are same length \n",
    "#(b).whether lists sums to same value\n",
    "#(c).whether any value occur in both\n",
    "lst1=list(map(int,input(\"Enter the list 1:\").split(\",\")))\n",
    "lst2=list(map(int,input(\"Enter the list 2:\").split(\",\")))\n",
    "print(\"List 1:\",lst1)\n",
    "print(\"List 2:\",lst2)\n",
    "if len(lst1)==len(lst2):\n",
    "    print(\"It has same length\")\n",
    "else:\n",
    "    print(\"It doesn't have same length\")\n",
    "if sum(lst1)==sum(lst2):\n",
    "    print(\"The sum are equal\")\n",
    "else:\n",
    "    print(\"The sum are not equal\")\n",
    "if set(lst1).intersection(set(lst2)):\n",
    "    print(\"Common value occur:\",set(lst1).intersection(set(lst2)))\n",
    "else:\n",
    "    print(\"No common value\")"
   ]
  },
  {
   "cell_type": "code",
   "execution_count": 4,
   "id": "8083548d",
   "metadata": {},
   "outputs": [
    {
     "name": "stdout",
     "output_type": "stream",
     "text": [
      "Enter the string:jumping\n",
      "modified string= jumpingly\n"
     ]
    }
   ],
   "source": [
    "#Add 'ing' at the end of a given string.if it already ends with 'ing',then add 'ly'\n",
    "str1=input(\"Enter the string:\")\n",
    "if str1.endswith('ing'):\n",
    "    str1=str1+\"ly\"\n",
    "else:\n",
    "    str1=str1+\"ing\"\n",
    "print(\"modified string=\",str1)"
   ]
  },
  {
   "cell_type": "code",
   "execution_count": null,
   "id": "a787687f",
   "metadata": {},
   "outputs": [],
   "source": []
  }
 ],
 "metadata": {
  "kernelspec": {
   "display_name": "Python 3 (ipykernel)",
   "language": "python",
   "name": "python3"
  },
  "language_info": {
   "codemirror_mode": {
    "name": "ipython",
    "version": 3
   },
   "file_extension": ".py",
   "mimetype": "text/x-python",
   "name": "python",
   "nbconvert_exporter": "python",
   "pygments_lexer": "ipython3",
   "version": "3.11.5"
  }
 },
 "nbformat": 4,
 "nbformat_minor": 5
}
