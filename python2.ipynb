{
 "cells": [
  {
   "cell_type": "code",
   "execution_count": 11,
   "id": "1785cb03",
   "metadata": {},
   "outputs": [
    {
     "name": "stdout",
     "output_type": "stream",
     "text": [
      "Enter the number:2\n",
      "2 + 22 + 222 = 246\n"
     ]
    }
   ],
   "source": [
    "#WAP that except an integer (n) and computes the value of n+nn+nnn.\n",
    "n=int(input(\"Enter the number:\"))\n",
    "nn=n+(n*10)\n",
    "nnn=n+(n*10)+(n*100)\n",
    "var=n+n1+n2\n",
    "print(n,\"+\",nn,\"+\",nnn,\"=\",var)"
   ]
  },
  {
   "cell_type": "code",
   "execution_count": 15,
   "id": "6fdbe71f",
   "metadata": {},
   "outputs": [
    {
     "name": "stdout",
     "output_type": "stream",
     "text": [
      "Enter the number:4\n",
      "Area of the circle = 50\n"
     ]
    }
   ],
   "source": [
    "#input the radius of the circle and compute the area.\n",
    "import math\n",
    "rad=int(input(\"Enter the number:\"))\n",
    "area=round(math.pi*rad*rad)\n",
    "print(\"Area of the circle =\",area)"
   ]
  },
  {
   "cell_type": "code",
   "execution_count": null,
   "id": "24526197",
   "metadata": {},
   "outputs": [],
   "source": []
  }
 ],
 "metadata": {
  "kernelspec": {
   "display_name": "Python 3 (ipykernel)",
   "language": "python",
   "name": "python3"
  },
  "language_info": {
   "codemirror_mode": {
    "name": "ipython",
    "version": 3
   },
   "file_extension": ".py",
   "mimetype": "text/x-python",
   "name": "python",
   "nbconvert_exporter": "python",
   "pygments_lexer": "ipython3",
   "version": "3.11.5"
  }
 },
 "nbformat": 4,
 "nbformat_minor": 5
}
