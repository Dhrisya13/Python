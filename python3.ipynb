{
 "cells": [
  {
   "cell_type": "code",
   "execution_count": 8,
   "id": "2157d1d7",
   "metadata": {},
   "outputs": [
    {
     "name": "stdout",
     "output_type": "stream",
     "text": [
      "Enter the celsius:37\n",
      "Fahrenheit unit is: 99\n"
     ]
    }
   ],
   "source": [
    "#Python program to convert Celsius to Fahrenheit\n",
    "#(T(F)=T(C)*9/5+32)\n",
    "C=int(input(\"Enter the celsius:\"))\n",
    "cel=round(C*9/5+32)\n",
    "print(\"Fahrenheit unit is:\",cel)"
   ]
  },
  {
   "cell_type": "code",
   "execution_count": 6,
   "id": "0708a2e5",
   "metadata": {},
   "outputs": [
    {
     "name": "stdout",
     "output_type": "stream",
     "text": [
      "Enter the value:22\n",
      "22.0 kilometer = 14 miles\n"
     ]
    }
   ],
   "source": [
    "#python program to convert km to miles(1 km is equal to 0.62137 miles)\n",
    "km=float(input(\"Enter the value:\"))\n",
    "miles=round(km*0.62137)\n",
    "print(f\"{km} kilometer = {miles} miles\")"
   ]
  },
  {
   "cell_type": "code",
   "execution_count": null,
   "id": "69f6fd90",
   "metadata": {},
   "outputs": [],
   "source": []
  }
 ],
 "metadata": {
  "kernelspec": {
   "display_name": "Python 3 (ipykernel)",
   "language": "python",
   "name": "python3"
  },
  "language_info": {
   "codemirror_mode": {
    "name": "ipython",
    "version": 3
   },
   "file_extension": ".py",
   "mimetype": "text/x-python",
   "name": "python",
   "nbconvert_exporter": "python",
   "pygments_lexer": "ipython3",
   "version": "3.11.5"
  }
 },
 "nbformat": 4,
 "nbformat_minor": 5
}
