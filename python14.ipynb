{
 "cells": [
  {
   "cell_type": "code",
   "execution_count": 5,
   "id": "5f5ad8dc",
   "metadata": {},
   "outputs": [
    {
     "name": "stdout",
     "output_type": "stream",
     "text": [
      "Enter the words:swedf,juh,hjuftyhf,ju\n",
      "the length of longest word is: 8\n"
     ]
    }
   ],
   "source": [
    "#Accept a list of words and return length of longest word.\n",
    "word=input(\"Enter the words:\").split(\",\")\n",
    "def length(word):\n",
    "    return max(len(i.strip())for i in word)\n",
    "len1=length(word)\n",
    "print(\"the length of longest word is:\",len1)"
   ]
  },
  {
   "cell_type": "code",
   "execution_count": 3,
   "id": "1f94d13f",
   "metadata": {},
   "outputs": [
    {
     "name": "stdout",
     "output_type": "stream",
     "text": [
      "Enter the value of longest row:5\n",
      "* \n",
      "* * \n",
      "* * * \n",
      "* * * * \n",
      "* * * * * \n",
      "* * * * \n",
      "* * * \n",
      "* * \n",
      "* \n"
     ]
    }
   ],
   "source": [
    "#Construct following pattern using nested loop\n",
    "# *\n",
    "# * *\n",
    "# * * *\n",
    "# * * * *\n",
    "# * * * * *\n",
    "# * * * *\n",
    "# * * * \n",
    "# * *\n",
    "# *\n",
    "n=int(input(\"Enter the value of longest row:\"))\n",
    "def star(n):\n",
    "    for i in range(1,n+1):\n",
    "        for j in range(i):\n",
    "            print(\"*\",end=\" \")\n",
    "        print()\n",
    "    for i in range(n-1,0,-1):\n",
    "        for j in range(i):\n",
    "            print(\"*\",end=\" \")\n",
    "        print()\n",
    "star(n)"
   ]
  },
  {
   "cell_type": "code",
   "execution_count": 10,
   "id": "9876eb41",
   "metadata": {},
   "outputs": [
    {
     "name": "stdout",
     "output_type": "stream",
     "text": [
      "Enter any values:6\n",
      "Factor of  6 are: [1, 2, 3, 6]\n"
     ]
    }
   ],
   "source": [
    "#Generate all factors of a number\n",
    "num=int(input(\"Enter any values:\"))\n",
    "def factor(num):\n",
    "    return [i for i in range(1,num+1) if num%i==0]\n",
    "print(\"Factor of \",num,\"are:\",factor(num))"
   ]
  },
  {
   "cell_type": "code",
   "execution_count": 12,
   "id": "4a2324b8",
   "metadata": {},
   "outputs": [
    {
     "name": "stdout",
     "output_type": "stream",
     "text": [
      "Enter the side of the square:4\n",
      "Area of a square is: 16.0\n",
      "Enter the length of the rectangle:5\n",
      "Enter the width of the rectangle:4\n",
      "Area of a rectangle is: 20.0\n",
      "Enter the base of the triangle:6\n",
      "Enter the height of the triangle:4\n",
      "Area of a triangle is: 12.0\n"
     ]
    }
   ],
   "source": [
    "#Write lambda functions to find area of aquare,rectangle and triangle.\n",
    "square=lambda s:s*s\n",
    "rectangle=lambda l,w:l*w\n",
    "triangle=lambda b,h:0.5*b*h\n",
    "\n",
    "s=float(input(\"Enter the side of the square:\"))\n",
    "print(\"Area of a square is:\",square(s))\n",
    "\n",
    "l=float(input(\"Enter the length of the rectangle:\"))\n",
    "w=float(input(\"Enter the width of the rectangle:\"))\n",
    "print(\"Area of a rectangle is:\",rectangle(l,w))\n",
    "\n",
    "b=float(input(\"Enter the base of the triangle:\"))\n",
    "h=float(input(\"Enter the height of the triangle:\"))\n",
    "print(\"Area of a triangle is:\",triangle(b,h))\n"
   ]
  },
  {
   "cell_type": "code",
   "execution_count": null,
   "id": "a8a2d732",
   "metadata": {},
   "outputs": [],
   "source": []
  }
 ],
 "metadata": {
  "kernelspec": {
   "display_name": "Python 3 (ipykernel)",
   "language": "python",
   "name": "python3"
  },
  "language_info": {
   "codemirror_mode": {
    "name": "ipython",
    "version": 3
   },
   "file_extension": ".py",
   "mimetype": "text/x-python",
   "name": "python",
   "nbconvert_exporter": "python",
   "pygments_lexer": "ipython3",
   "version": "3.11.5"
  }
 },
 "nbformat": 4,
 "nbformat_minor": 5
}
