{
 "cells": [
  {
   "cell_type": "code",
   "execution_count": 2,
   "id": "9cf26503",
   "metadata": {},
   "outputs": [
    {
     "name": "stdout",
     "output_type": "stream",
     "text": [
      "Good Morning\n"
     ]
    }
   ],
   "source": [
    "print(\"Good Morning\")"
   ]
  },
  {
   "cell_type": "code",
   "execution_count": 5,
   "id": "c3c61357",
   "metadata": {},
   "outputs": [
    {
     "name": "stdout",
     "output_type": "stream",
     "text": [
      "Kattil ho, Koottala po,\n",
      "kunissery,palakkad,678681\n"
     ]
    }
   ],
   "source": [
    "print(\"Kattil ho, Koottala po,\\nkunissery,palakkad,678681\")"
   ]
  },
  {
   "cell_type": "code",
   "execution_count": 8,
   "id": "dcb4516e",
   "metadata": {},
   "outputs": [
    {
     "name": "stdout",
     "output_type": "stream",
     "text": [
      "2\n"
     ]
    }
   ],
   "source": [
    "print(5//2)"
   ]
  },
  {
   "cell_type": "code",
   "execution_count": 9,
   "id": "b2edf640",
   "metadata": {},
   "outputs": [
    {
     "name": "stdout",
     "output_type": "stream",
     "text": [
      "2.5\n"
     ]
    }
   ],
   "source": [
    "print(5/2)"
   ]
  },
  {
   "cell_type": "code",
   "execution_count": 10,
   "id": "f31b6d76",
   "metadata": {},
   "outputs": [
    {
     "name": "stdout",
     "output_type": "stream",
     "text": [
      "8\n"
     ]
    }
   ],
   "source": [
    "print(2**3)"
   ]
  },
  {
   "cell_type": "code",
   "execution_count": 11,
   "id": "d3f18b18",
   "metadata": {},
   "outputs": [
    {
     "name": "stdout",
     "output_type": "stream",
     "text": [
      "MCA'S Student\n"
     ]
    }
   ],
   "source": [
    "print(\"MCA'S Student\")"
   ]
  },
  {
   "cell_type": "code",
   "execution_count": 15,
   "id": "1ea60cd8",
   "metadata": {},
   "outputs": [
    {
     "name": "stdout",
     "output_type": "stream",
     "text": [
      "MCA \"students\"\n"
     ]
    }
   ],
   "source": [
    "print('MCA \"students\"')"
   ]
  },
  {
   "cell_type": "markdown",
   "id": "9ea64013",
   "metadata": {},
   "source": []
  },
  {
   "cell_type": "code",
   "execution_count": 16,
   "id": "094dc511",
   "metadata": {},
   "outputs": [
    {
     "name": "stdout",
     "output_type": "stream",
     "text": [
      "Arjun\n"
     ]
    }
   ],
   "source": [
    "n=\"Arjun\"\n",
    "print(n)"
   ]
  },
  {
   "cell_type": "code",
   "execution_count": 31,
   "id": "4785554e",
   "metadata": {},
   "outputs": [
    {
     "name": "stdout",
     "output_type": "stream",
     "text": [
      "name = jun\n"
     ]
    }
   ],
   "source": [
    "n=\"Arjun\"\n",
    "print(\"name =\",n[2:5])"
   ]
  },
  {
   "cell_type": "code",
   "execution_count": 6,
   "id": "1d9618f9",
   "metadata": {},
   "outputs": [
    {
     "name": "stdout",
     "output_type": "stream",
     "text": [
      "7.0710678118654755\n"
     ]
    }
   ],
   "source": [
    "#import math\n",
    "number=50\n",
    "res=math.sqrt(number)\n",
    "print(res)"
   ]
  },
  {
   "cell_type": "code",
   "execution_count": 7,
   "id": "993794e8",
   "metadata": {},
   "outputs": [
    {
     "name": "stdout",
     "output_type": "stream",
     "text": [
      "8\n",
      "7\n"
     ]
    }
   ],
   "source": [
    "num=7.2\n",
    "print(math.ceil(num))\n",
    "print(math.floor(num))"
   ]
  },
  {
   "cell_type": "code",
   "execution_count": 8,
   "id": "6aae3144",
   "metadata": {},
   "outputs": [
    {
     "name": "stdout",
     "output_type": "stream",
     "text": [
      "Enter the length of the side:5\n",
      "The area of the square is: 25.0\n"
     ]
    }
   ],
   "source": [
    "#write a program to compute the area of a square\n",
    "side=float(input(\"Enter the length of the side:\"))\n",
    "area=side*side\n",
    "print(f\"The area of the square is: {area}\")"
   ]
  },
  {
   "cell_type": "code",
   "execution_count": 9,
   "id": "8d96afb5",
   "metadata": {},
   "outputs": [
    {
     "name": "stdout",
     "output_type": "stream",
     "text": [
      "Enter the base of the triangle5\n",
      "Enter the height of the triangle6\n",
      "the area of right angeled triangle:15.0\n"
     ]
    }
   ],
   "source": [
    "#write a program to compute the area of right angeled triangle\n",
    "base=float(input(\"Enter the base of the triangle\"))\n",
    "height=float(input(\"Enter the height of the triangle\"))\n",
    "area=0.5*base*height\n",
    "print(f\"the area of right angeled triangle:{area}\")"
   ]
  },
  {
   "cell_type": "code",
   "execution_count": null,
   "id": "4d2164c3",
   "metadata": {},
   "outputs": [],
   "source": []
  }
 ],
 "metadata": {
  "kernelspec": {
   "display_name": "Python 3 (ipykernel)",
   "language": "python",
   "name": "python3"
  },
  "language_info": {
   "codemirror_mode": {
    "name": "ipython",
    "version": 3
   },
   "file_extension": ".py",
   "mimetype": "text/x-python",
   "name": "python",
   "nbconvert_exporter": "python",
   "pygments_lexer": "ipython3",
   "version": "3.11.5"
  }
 },
 "nbformat": 4,
 "nbformat_minor": 5
}
